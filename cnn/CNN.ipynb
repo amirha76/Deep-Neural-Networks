{
  "nbformat": 4,
  "nbformat_minor": 0,
  "metadata": {
    "colab": {
      "provenance": [],
      "gpuType": "T4"
    },
    "kernelspec": {
      "name": "python3",
      "display_name": "Python 3"
    },
    "language_info": {
      "name": "python"
    },
    "accelerator": "GPU"
  },
  "cells": [
    {
      "cell_type": "markdown",
      "metadata": {
        "id": "1DTRla-VL5T_"
      },
      "source": [
        "## **Libraries**"
      ]
    },
    {
      "cell_type": "code",
      "metadata": {
        "id": "_dS2KZsGHBzO"
      },
      "source": [
        "from keras.datasets import fashion_mnist\n",
        "import numpy as np\n",
        "import matplotlib.pyplot as plt\n",
        "from keras.utils import np_utils\n",
        "from tensorflow.keras.models import Sequential\n",
        "from tensorflow.keras.layers import Dense, Conv2D, MaxPooling2D, Flatten, AveragePooling2D\n",
        "from tensorflow.keras.optimizers import Adam\n",
        "import datetime\n",
        "from sklearn.metrics import confusion_matrix, classification_report\n",
        "import itertools"
      ],
      "execution_count": 21,
      "outputs": []
    },
    {
      "cell_type": "markdown",
      "metadata": {
        "id": "z0yh3CL8NAn3"
      },
      "source": [
        "## **Load Data and Preprocessing**"
      ]
    },
    {
      "cell_type": "code",
      "metadata": {
        "id": "FMzgkgwVOeyr",
        "colab": {
          "base_uri": "https://localhost:8080/"
        },
        "outputId": "fca85148-ca19-435f-8693-34cd80016b78"
      },
      "source": [
        "(x_train, y_train), (x_test, y_test) = fashion_mnist.load_data()\n",
        "\n",
        "## type changing\n",
        "x_train = x_train.astype('float64')\n",
        "x_test  = x_test.astype('float64')\n",
        "\n",
        "## normalize\n",
        "x_train = x_train/255\n",
        "x_test = x_test/255\n",
        "\n",
        "x_train = np.expand_dims(x_train, -1)\n",
        "x_test = np.expand_dims(x_test, -1)\n",
        "\n",
        "## one-hot for output\n",
        "y_train = np_utils.to_categorical(y_train)\n",
        "y_test  = np_utils.to_categorical(y_test)\n",
        "x_train.shape"
      ],
      "execution_count": 2,
      "outputs": [
        {
          "output_type": "stream",
          "name": "stdout",
          "text": [
            "Downloading data from https://storage.googleapis.com/tensorflow/tf-keras-datasets/train-labels-idx1-ubyte.gz\n",
            "29515/29515 [==============================] - 0s 0us/step\n",
            "Downloading data from https://storage.googleapis.com/tensorflow/tf-keras-datasets/train-images-idx3-ubyte.gz\n",
            "26421880/26421880 [==============================] - 0s 0us/step\n",
            "Downloading data from https://storage.googleapis.com/tensorflow/tf-keras-datasets/t10k-labels-idx1-ubyte.gz\n",
            "5148/5148 [==============================] - 0s 0us/step\n",
            "Downloading data from https://storage.googleapis.com/tensorflow/tf-keras-datasets/t10k-images-idx3-ubyte.gz\n",
            "4422102/4422102 [==============================] - 0s 0us/step\n"
          ]
        },
        {
          "output_type": "execute_result",
          "data": {
            "text/plain": [
              "(60000, 28, 28, 1)"
            ]
          },
          "metadata": {},
          "execution_count": 2
        }
      ]
    },
    {
      "cell_type": "markdown",
      "metadata": {
        "id": "DTcUfy2Em0oV"
      },
      "source": [
        "## **Create Model**"
      ]
    },
    {
      "cell_type": "code",
      "metadata": {
        "id": "Ly8ciB00PeCK"
      },
      "source": [
        "def model():\n",
        "    model = Sequential()\n",
        "    model.add(Conv2D(128, (3,3), activation='relu', padding='same', input_shape=(28, 28, 1)))\n",
        "    model.add(MaxPooling2D(pool_size=(3, 3), strides=(2, 2)))\n",
        "    model.add(Conv2D(256, (3,3), activation='relu', padding='same'))\n",
        "    model.add(MaxPooling2D(pool_size=(3, 3), strides=(2, 2)))\n",
        "    model.add(Conv2D(256, (3,3), activation='relu', padding='same'))\n",
        "    model.add(MaxPooling2D(pool_size=(3, 3), strides=(2, 2)))\n",
        "    model.add(Conv2D(512, (3,3), activation='relu', padding='same'))\n",
        "    model.add(MaxPooling2D(pool_size=(2, 2), strides=(2, 2)))\n",
        "    model.add(Flatten())\n",
        "    model.add(Dense(512, activation='relu'))\n",
        "    model.add(Dense(10, activation='softmax'))\n",
        "\n",
        "    return model"
      ],
      "execution_count": 5,
      "outputs": []
    },
    {
      "cell_type": "code",
      "source": [
        "mo = model()\n",
        "mo.summary()"
      ],
      "metadata": {
        "colab": {
          "base_uri": "https://localhost:8080/"
        },
        "id": "5eG-n5TXu8gp",
        "outputId": "95edc91a-28ba-4ccb-eb8b-ecb2c1f566eb"
      },
      "execution_count": 6,
      "outputs": [
        {
          "output_type": "stream",
          "name": "stdout",
          "text": [
            "Model: \"sequential_1\"\n",
            "_________________________________________________________________\n",
            " Layer (type)                Output Shape              Param #   \n",
            "=================================================================\n",
            " conv2d_4 (Conv2D)           (None, 28, 28, 128)       1280      \n",
            "                                                                 \n",
            " max_pooling2d_4 (MaxPooling  (None, 13, 13, 128)      0         \n",
            " 2D)                                                             \n",
            "                                                                 \n",
            " conv2d_5 (Conv2D)           (None, 13, 13, 256)       295168    \n",
            "                                                                 \n",
            " max_pooling2d_5 (MaxPooling  (None, 6, 6, 256)        0         \n",
            " 2D)                                                             \n",
            "                                                                 \n",
            " conv2d_6 (Conv2D)           (None, 6, 6, 256)         590080    \n",
            "                                                                 \n",
            " max_pooling2d_6 (MaxPooling  (None, 2, 2, 256)        0         \n",
            " 2D)                                                             \n",
            "                                                                 \n",
            " conv2d_7 (Conv2D)           (None, 2, 2, 512)         1180160   \n",
            "                                                                 \n",
            " max_pooling2d_7 (MaxPooling  (None, 1, 1, 512)        0         \n",
            " 2D)                                                             \n",
            "                                                                 \n",
            " flatten_1 (Flatten)         (None, 512)               0         \n",
            "                                                                 \n",
            " dense_2 (Dense)             (None, 512)               262656    \n",
            "                                                                 \n",
            " dense_3 (Dense)             (None, 10)                5130      \n",
            "                                                                 \n",
            "=================================================================\n",
            "Total params: 2,334,474\n",
            "Trainable params: 2,334,474\n",
            "Non-trainable params: 0\n",
            "_________________________________________________________________\n"
          ]
        }
      ]
    },
    {
      "cell_type": "code",
      "metadata": {
        "colab": {
          "base_uri": "https://localhost:8080/"
        },
        "id": "IXX-i4_1BCJy",
        "outputId": "9c7805eb-b51f-469e-caf2-b70391e78e31"
      },
      "source": [
        "mo.compile(loss='binary_crossentropy', optimizer=Adam(learning_rate=0.001), metrics=['accuracy'])\n",
        "begin = datetime.datetime.now()\n",
        "history = mo.fit(x_train, y_train, epochs=12, batch_size=64, validation_split=0.2)\n",
        "end = datetime.datetime.now()\n",
        "Training_time = end - begin\n",
        "print(\"\\n\\n\\nTraining Time = {}\".format(Training_time))"
      ],
      "execution_count": 8,
      "outputs": [
        {
          "output_type": "stream",
          "name": "stdout",
          "text": [
            "Epoch 1/12\n",
            "750/750 [==============================] - 11s 13ms/step - loss: 0.1015 - accuracy: 0.7766 - val_loss: 0.0611 - val_accuracy: 0.8730\n",
            "Epoch 2/12\n",
            "750/750 [==============================] - 9s 12ms/step - loss: 0.0549 - accuracy: 0.8891 - val_loss: 0.0519 - val_accuracy: 0.8982\n",
            "Epoch 3/12\n",
            "750/750 [==============================] - 10s 13ms/step - loss: 0.0462 - accuracy: 0.9060 - val_loss: 0.0501 - val_accuracy: 0.8994\n",
            "Epoch 4/12\n",
            "750/750 [==============================] - 9s 12ms/step - loss: 0.0407 - accuracy: 0.9174 - val_loss: 0.0444 - val_accuracy: 0.9097\n",
            "Epoch 5/12\n",
            "750/750 [==============================] - 10s 13ms/step - loss: 0.0365 - accuracy: 0.9253 - val_loss: 0.0462 - val_accuracy: 0.9110\n",
            "Epoch 6/12\n",
            "750/750 [==============================] - 9s 13ms/step - loss: 0.0329 - accuracy: 0.9343 - val_loss: 0.0440 - val_accuracy: 0.9170\n",
            "Epoch 7/12\n",
            "750/750 [==============================] - 10s 13ms/step - loss: 0.0295 - accuracy: 0.9412 - val_loss: 0.0436 - val_accuracy: 0.9175\n",
            "Epoch 8/12\n",
            "750/750 [==============================] - 9s 12ms/step - loss: 0.0273 - accuracy: 0.9462 - val_loss: 0.0457 - val_accuracy: 0.9128\n",
            "Epoch 9/12\n",
            "750/750 [==============================] - 9s 12ms/step - loss: 0.0237 - accuracy: 0.9531 - val_loss: 0.0443 - val_accuracy: 0.9211\n",
            "Epoch 10/12\n",
            "750/750 [==============================] - 9s 12ms/step - loss: 0.0216 - accuracy: 0.9574 - val_loss: 0.0443 - val_accuracy: 0.9240\n",
            "Epoch 11/12\n",
            "750/750 [==============================] - 10s 14ms/step - loss: 0.0187 - accuracy: 0.9634 - val_loss: 0.0477 - val_accuracy: 0.9223\n",
            "Epoch 12/12\n",
            "750/750 [==============================] - 14s 18ms/step - loss: 0.0173 - accuracy: 0.9661 - val_loss: 0.0479 - val_accuracy: 0.9233\n",
            "\n",
            "\n",
            "\n",
            "Training Time = 0:01:59.558433\n"
          ]
        }
      ]
    },
    {
      "cell_type": "markdown",
      "metadata": {
        "id": "X4xRZiaDm5Hv"
      },
      "source": [
        "## **Train Model**"
      ]
    },
    {
      "cell_type": "markdown",
      "metadata": {
        "id": "paIUKzmym7_l"
      },
      "source": [
        "## **Evaluation**"
      ]
    },
    {
      "cell_type": "code",
      "source": [
        "fig = plt.figure()\n",
        "plt.plot(history.history['accuracy'], 'r')\n",
        "plt.plot(history.history['val_accuracy'], 'b')\n",
        "plt.title('Accuracy vs Epochs')\n",
        "plt.ylabel('Accuracy')\n",
        "plt.xlabel('epochs')\n",
        "plt.legend(['train', 'validation'], loc='lower right')\n",
        "plt.grid()"
      ],
      "metadata": {
        "colab": {
          "base_uri": "https://localhost:8080/",
          "height": 472
        },
        "id": "h2tXhl2WvgZr",
        "outputId": "70885446-1031-4ebb-c6a3-20d6f44a5328"
      },
      "execution_count": 9,
      "outputs": [
        {
          "output_type": "display_data",
          "data": {
            "text/plain": [
              "<Figure size 640x480 with 1 Axes>"
            ],
            "image/png": "[encoded data removed]"
          },
          "metadata": {}
        }
      ]
    },
    {
      "cell_type": "code",
      "metadata": {
        "colab": {
          "base_uri": "https://localhost:8080/"
        },
        "id": "tKmk-KpdMZkt",
        "outputId": "1eac92cc-bd73-4ded-ed4b-f19ad0fc2ec0"
      },
      "source": [
        "y_pred = mo.predict(x_test)\n",
        "y_pred = np.argmax(y_pred, axis=1)\n",
        "y_pred = np_utils.to_categorical(y_pred)\n",
        "\n",
        "[test_loss, test_accuracy] = mo.evaluate(x_test, y_test)\n",
        "print(\"Test Loss: \", test_loss)\n",
        "print(\"Test accuracy: \", test_accuracy)"
      ],
      "execution_count": 11,
      "outputs": [
        {
          "output_type": "stream",
          "name": "stdout",
          "text": [
            "313/313 [==============================] - 1s 4ms/step\n",
            "313/313 [==============================] - 1s 4ms/step - loss: 0.0543 - accuracy: 0.9181\n",
            "Test Loss:  0.05428516864776611\n",
            "Test accuracy:  0.9180999994277954\n"
          ]
        }
      ]
    },
    {
      "cell_type": "code",
      "metadata": {
        "colab": {
          "base_uri": "https://localhost:8080/"
        },
        "id": "N5uZ8ZrBVlPH",
        "outputId": "de1b5ea0-c55a-4c17-8453-8d008006be36"
      },
      "source": [
        "print(y_pred.shape)\n",
        "print(y_test.shape)"
      ],
      "execution_count": 12,
      "outputs": [
        {
          "output_type": "stream",
          "name": "stdout",
          "text": [
            "(10000, 10)\n",
            "(10000, 10)\n"
          ]
        }
      ]
    },
    {
      "cell_type": "code",
      "metadata": {
        "colab": {
          "base_uri": "https://localhost:8080/"
        },
        "id": "Cli9BRYqNR60",
        "outputId": "d8662bd6-c58c-4eaf-ebc7-836d867610d4"
      },
      "source": [
        "correct_indices = np.nonzero(y_pred == y_test)[0]\n",
        "incorrect_indices = np.nonzero(y_pred != y_test)[0]\n",
        "\n",
        "print(\"Classified correctly: \", len(correct_indices))\n",
        "print(\"Classidied incorrectly: \", len(incorrect_indices))"
      ],
      "execution_count": 13,
      "outputs": [
        {
          "output_type": "stream",
          "name": "stdout",
          "text": [
            "Classified correctly:  98362\n",
            "Classidied incorrectly:  1638\n"
          ]
        }
      ]
    }
  ]
}